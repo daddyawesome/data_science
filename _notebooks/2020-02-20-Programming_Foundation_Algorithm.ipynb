{
  "nbformat": 4,
  "nbformat_minor": 0,
  "metadata": {
    "colab": {
      "name": "2020-02-20-Programming_Foundation_Algorithm.ipynb",
      "provenance": [],
      "authorship_tag": "ABX9TyPnfflcyx8sSeSbDDd0SDCh"
    },
    "kernelspec": {
      "name": "python3",
      "display_name": "Python 3"
    }
  },
  "cells": [
    {
      "cell_type": "markdown",
      "metadata": {
        "id": "tKhqWVnuHhWq",
        "colab_type": "text"
      },
      "source": [
        "# Programming Foundation - Algorithms\n",
        "> Programming foundation in python.\n",
        "\n",
        "- toc: true \n",
        "- badges: true\n",
        "- comments: true\n",
        "- categories: [programming foundation, algorithm, Python]\n",
        "- image: images/chart-preview.png"
      ]
    },
    {
      "cell_type": "markdown",
      "metadata": {
        "id": "K16EmKOp5mX4",
        "colab_type": "text"
      },
      "source": [
        "## Common Algorithms\n",
        "### Search Algorithms\n",
        "- find specific data in structure (i.e. a substring within a string)\n",
        "\n",
        "### Sorting Algorithm\n",
        "- Take a dataset and apply a sort order on it\n",
        "\n",
        "### Computational Algorithm\n",
        "- given one set of data, calcualte another (is a given number prime?)\n",
        "\n",
        "### Collection Algorithm\n",
        "- work with collections of data (count specific items, navigate among data elements, filter out unwanted data etc.)\n",
        "\n"
      ]
    },
    {
      "cell_type": "code",
      "metadata": {
        "id": "19NGGa2R5SbG",
        "colab_type": "code",
        "colab": {
          "base_uri": "https://localhost:8080/",
          "height": 68
        },
        "outputId": "1c9ed8ed-1de1-4f87-de53-49ef4c8ec258"
      },
      "source": [
        "# Find the greatest common denominator of two numbers\n",
        "#using Euclids Algorithm\n",
        "\n",
        "def gcd(a, b):\n",
        "  while(b != 0):\n",
        "    t = a\n",
        "    a = b\n",
        "    b = t % b\n",
        "  return a\n",
        "\n",
        "#try out the function with few numbers\n",
        "print(gcd(60,96)) #should be 12\n",
        "print(gcd(20, 8)) # should be 4\n",
        "print(gcd(12, 30))"
      ],
      "execution_count": null,
      "outputs": [
        {
          "output_type": "stream",
          "text": [
            "12\n",
            "4\n",
            "6\n"
          ],
          "name": "stdout"
        }
      ]
    },
    {
      "cell_type": "markdown",
      "metadata": {
        "id": "ywbUqogRIHiM",
        "colab_type": "text"
      },
      "source": [
        "## Common Data Structures\n",
        "\n",
        "- Arrays\n",
        "- Link Lists\n",
        "- Stacks and Queues\n",
        "- Hash Table"
      ]
    },
    {
      "cell_type": "code",
      "metadata": {
        "id": "OfiTGnfF9A_4",
        "colab_type": "code",
        "colab": {}
      },
      "source": [
        "# Linked list example\n",
        "\n",
        "\n",
        "# the Node class\n",
        "class Node(object):\n",
        "    def __init__(self, val):\n",
        "        self.val = val\n",
        "        self.next = None\n",
        "\n",
        "    def get_data(self):\n",
        "        return self.val\n",
        "\n",
        "    def set_data(self, val):\n",
        "        self.val = val\n",
        "\n",
        "    def get_next(self):\n",
        "        return self.next\n",
        "\n",
        "    def set_next(self, next):\n",
        "        self.next = next\n",
        "\n",
        "\n",
        "# the LinkedList class\n",
        "class LinkedList(object):\n",
        "    def __init__(self, head=None):\n",
        "        self.head = head\n",
        "        self.count = 0\n",
        "\n",
        "    def get_count(self):\n",
        "        return self.count\n",
        "\n",
        "    def insert(self, data):\n",
        "        new_node = Node(data)\n",
        "        new_node.set_next(self.head)\n",
        "        self.head = new_node\n",
        "        self.count += 1\n",
        "\n",
        "    def find(self, val):\n",
        "        item = self.head\n",
        "        while (item != None):\n",
        "            if item.get_data() == val:\n",
        "                return item\n",
        "            else:\n",
        "                item = item.get_next()\n",
        "        return None\n",
        "\n",
        "    def deleteAt(self, idx):\n",
        "        if idx > self.count:\n",
        "            return\n",
        "        if self.head == None:\n",
        "            return\n",
        "        else:\n",
        "            tempIdx = 0\n",
        "            node = self.head\n",
        "            while tempIdx < idx-1:\n",
        "                node = node.get_next()\n",
        "                tempIdx += 1\n",
        "            node.set_next(node.get_next().get_next())\n",
        "            self.count -= 1\n",
        "\n",
        "    def dump_list(self):\n",
        "        tempnode = self.head\n",
        "        while (tempnode != None):\n",
        "            print(\"Node: \", tempnode.get_data())\n",
        "            tempnode = tempnode.get_next()\n",
        "\n",
        "\n",
        "# create a linked list and insert some items\n",
        "itemlist = LinkedList()\n",
        "itemlist.insert(38)\n",
        "itemlist.insert(49)\n",
        "itemlist.insert(13)\n",
        "itemlist.insert(15)\n",
        "\n",
        "itemlist.dump_list()\n",
        "\n",
        "# exercise the list\n",
        "print(\"Item count: \", itemlist.get_count())\n",
        "print(\"Finding item: \", itemlist.find(13))\n",
        "print(\"Finding item: \", itemlist.find(78))\n",
        "\n",
        "# delete an item\n",
        "itemlist.deleteAt(3)\n",
        "print(\"Item count: \", itemlist.get_count())\n",
        "print(\"Finding item: \", itemlist.find(38))\n",
        "itemlist.dump_list()\n"
      ],
      "execution_count": null,
      "outputs": []
    },
    {
      "cell_type": "markdown",
      "metadata": {
        "id": "d0VgEVYwv0Bg",
        "colab_type": "text"
      },
      "source": [
        "### Stacks and Queues\n",
        "\n",
        "![stack](https://snipboard.io/7KQ0Vp.jpg)\n",
        "![stack](https://snipboard.io/wyMNLs.jpg)\n",
        "\n",
        "**Practical Applications**\n",
        "- Stack  \n",
        "  - Expression processing  \n",
        "  - Backtracking: browser back stack, for example\n",
        "- Queue  \n",
        "  - Order processing  \n",
        "  - Messaging"
      ]
    },
    {
      "cell_type": "code",
      "metadata": {
        "id": "07LehO14xWkv",
        "colab_type": "code",
        "colab": {
          "base_uri": "https://localhost:8080/",
          "height": 68
        },
        "outputId": "b6ef4e15-d91e-47ec-ce89-524b563e720b"
      },
      "source": [
        "# try out the Python stack functions\n",
        "\n",
        "# create a new empty stack\n",
        "stack = []\n",
        "\n",
        "# push items onto the stack\n",
        "stack.append(1)\n",
        "stack.append(2)\n",
        "stack.append(3)\n",
        "stack.append(4)\n",
        "\n",
        "# print the stack contents\n",
        "print(stack)\n",
        "\n",
        "# pop an item off the stack\n",
        "x = stack.pop()\n",
        "print(x)\n",
        "print(stack)"
      ],
      "execution_count": 1,
      "outputs": [
        {
          "output_type": "stream",
          "text": [
            "[1, 2, 3, 4]\n",
            "4\n",
            "[1, 2, 3]\n"
          ],
          "name": "stdout"
        }
      ]
    },
    {
      "cell_type": "code",
      "metadata": {
        "id": "jb1efLSFyrEz",
        "colab_type": "code",
        "colab": {
          "base_uri": "https://localhost:8080/",
          "height": 68
        },
        "outputId": "beebde28-a7e4-48e6-be51-65dd32f01803"
      },
      "source": [
        "# try out the Python queue functions\n",
        "from collections import deque\n",
        "\n",
        "# create a new empty deque object that will function as a queue\n",
        "queue = deque()\n",
        "\n",
        "# add some items to the queue\n",
        "queue.append(1)\n",
        "queue.append(2)\n",
        "queue.append(3)\n",
        "queue.append(4)\n",
        "\n",
        "# print the queue contents\n",
        "print(queue)\n",
        "\n",
        "# pop an item off the front of the queue\n",
        "x = queue.popleft()\n",
        "print(x)\n",
        "print(queue)"
      ],
      "execution_count": 2,
      "outputs": [
        {
          "output_type": "stream",
          "text": [
            "deque([1, 2, 3, 4])\n",
            "1\n",
            "deque([2, 3, 4])\n"
          ],
          "name": "stdout"
        }
      ]
    },
    {
      "cell_type": "markdown",
      "metadata": {
        "id": "9ZIdgjlZzXLD",
        "colab_type": "text"
      },
      "source": [
        "### Hash Table\n",
        "Some called it dictionary\n",
        "![hashtable](https://snipboard.io/seqBZJ.jpg)\n",
        "\n",
        "- key-to-value mappings are unique\n",
        "- hash tables are typically very fast\n",
        "- for small dataset, arrays are ussually more effiecient\n",
        "- hash table don't order entries in a predictable way"
      ]
    },
    {
      "cell_type": "code",
      "metadata": {
        "id": "MPbJ2MNh0YBT",
        "colab_type": "code",
        "colab": {
          "base_uri": "https://localhost:8080/",
          "height": 119
        },
        "outputId": "dd529635-5622-4023-b0ba-6498ee395af8"
      },
      "source": [
        "# demonstrate hashtable usage\n",
        "\n",
        "\n",
        "# create a hashtable all at once\n",
        "items1 = dict({\"key1\": 1, \"key2\": 2, \"key3\": \"three\"})\n",
        "print(items1)\n",
        "\n",
        "\n",
        "# create a hashtable progressively\n",
        "items2 = {}\n",
        "items2[\"key1\"] = 1\n",
        "items2[\"key2\"] = 2\n",
        "items2[\"key3\"] = 3\n",
        "print(items2)\n",
        "\n",
        "# try to access a nonexistent key\n",
        "# print(items1[\"key6\"])\n",
        "\n",
        "# replace an item\n",
        "items2[\"key2\"] = \"two\"\n",
        "print(items2)\n",
        "\n",
        "# iterate the keys and values in the dictionary\n",
        "for key, value in items2.items():\n",
        "    print(\"key: \", key, \" value: \", value)\n"
      ],
      "execution_count": 3,
      "outputs": [
        {
          "output_type": "stream",
          "text": [
            "{'key1': 1, 'key2': 2, 'key3': 'three'}\n",
            "{'key1': 1, 'key2': 2, 'key3': 3}\n",
            "{'key1': 1, 'key2': 'two', 'key3': 3}\n",
            "key:  key1  value:  1\n",
            "key:  key2  value:  two\n",
            "key:  key3  value:  3\n"
          ],
          "name": "stdout"
        }
      ]
    }
  ]
}