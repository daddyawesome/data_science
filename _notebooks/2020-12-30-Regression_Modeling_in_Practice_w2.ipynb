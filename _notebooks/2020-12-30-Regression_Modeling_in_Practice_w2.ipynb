{
  "nbformat": 4,
  "nbformat_minor": 0,
  "metadata": {
    "colab": {
      "name": "Regression Modeling in Practice - w2",
      "provenance": [],
      "collapsed_sections": [],
      "authorship_tag": "ABX9TyOtp3xv17y7iJyuRatXjR16",
      "include_colab_link": true
    },
    "kernelspec": {
      "name": "python3",
      "display_name": "Python 3"
    }
  },
  "cells": [
    {
      "cell_type": "markdown",
      "metadata": {
        "id": "view-in-github",
        "colab_type": "text"
      },
      "source": [
        "<a href=\"https://colab.research.google.com/github/daddyawesome/data_science/blob/master/_notebooks/2020-12-30-Regression_Modeling_in_Practice_w2.ipynb\" target=\"_parent\"><img src=\"https://colab.research.google.com/assets/colab-badge.svg\" alt=\"Open In Colab\"/></a>"
      ]
    },
    {
      "cell_type": "markdown",
      "metadata": {
        "id": "2pfLrHmUHOjR"
      },
      "source": [
        "# Regression Modeling in Practice\r\n",
        "> Test a Basic Linear Regression Model.\r\n",
        "\r\n",
        "- toc: true \r\n",
        "- badges: true\r\n",
        "- comments: true\r\n",
        "- categories: [Linear Regression Model, Python, Google Colab]\r\n",
        "- image: images/chart-preview.png\r\n",
        "\r\n",
        "\r\n"
      ]
    },
    {
      "cell_type": "markdown",
      "metadata": {
        "id": "3zK12dxt1PjC"
      },
      "source": [
        "# About\r\n",
        "\r\n",
        "This notebook is a demonstration of a Basic Linear Regression Model using Google Colab.    \r\n",
        "\r\n",
        "\r\n",
        "---\r\n",
        "\r\n",
        "\r\n",
        "## Regression Modeling in Practice\r\n",
        "### Week 2: Test a Basic Linear Regression Model\r\n",
        "\r\n",
        "We are now going to test a basic linear regression model.\r\n",
        "\r\n",
        "To answer the question, what is the realtionship between internet use rate and income per person in Asian Countries. \r\n",
        "\r\n",
        "But before we run the model though, we will need  to center the mean of the explanatory variable, income per person.\r\n",
        "\r\n",
        "**Data**\r\n",
        "Data for this study comes from the Gapminder World Dataset collected by the Gapminder Foundation. The Gapminder World Dataset contains data collected from more than 200 countries/areas for more 500 variables.\r\n",
        "\r\n",
        "**Description of Variables**\r\n",
        "Below is the description of the variables\r\n",
        "\r\n",
        "1. Internet User Rate\r\n",
        ">The internet use rate of a country was collected by the World Bank in their World Development Indicators.\r\n",
        "2. Income per Person\r\n",
        "> Income per person is simply Gross Domestic Product per capita (the country’s total, country-wide income divided by the population)\r\n",
        "3. Continents (I will use this data to get Asian contries from gapminder)\r\n",
        " \r\n",
        "\r\n",
        "## First, Start with import"
      ]
    },
    {
      "cell_type": "code",
      "metadata": {
        "id": "oxFWtUHi1Okb",
        "colab": {
          "base_uri": "https://localhost:8080/"
        },
        "outputId": "9b813b5a-4287-484b-b568-6de282c631e1"
      },
      "source": [
        "import pandas as pd\r\n",
        "import seaborn as sns\r\n",
        "import matplotlib.pyplot as plt\r\n",
        "import statsmodels.formula.api as smf"
      ],
      "execution_count": 1,
      "outputs": [
        {
          "output_type": "stream",
          "text": [
            "/usr/local/lib/python3.6/dist-packages/statsmodels/tools/_testing.py:19: FutureWarning: pandas.util.testing is deprecated. Use the functions in the public API at pandas.testing instead.\n",
            "  import pandas.util.testing as tm\n"
          ],
          "name": "stderr"
        }
      ]
    },
    {
      "cell_type": "markdown",
      "metadata": {
        "id": "B4qzs8IvAGjm"
      },
      "source": [
        "## Second, load the data   \r\n",
        "\r\n",
        "\r\n",
        "### load gapminder dataset\r\n",
        "\r\n",
        "I will be using url to get the data online"
      ]
    },
    {
      "cell_type": "code",
      "metadata": {
        "colab": {
          "base_uri": "https://localhost:8080/",
          "height": 224
        },
        "id": "zq75uRNhAaYM",
        "outputId": "dd857128-eba1-4edf-fc85-f95478111245"
      },
      "source": [
        "# df as dataframe from gapminder dataset\r\n",
        "url = 'https://raw.githubusercontent.com/daddyawesome/Coursera_Capstone/master/data/gapminder.csv'\r\n",
        "df = pd.read_csv(url)\r\n",
        "\r\n",
        "df.head()"
      ],
      "execution_count": 2,
      "outputs": [
        {
          "output_type": "execute_result",
          "data": {
            "text/html": [
              "<div>\n",
              "<style scoped>\n",
              "    .dataframe tbody tr th:only-of-type {\n",
              "        vertical-align: middle;\n",
              "    }\n",
              "\n",
              "    .dataframe tbody tr th {\n",
              "        vertical-align: top;\n",
              "    }\n",
              "\n",
              "    .dataframe thead th {\n",
              "        text-align: right;\n",
              "    }\n",
              "</style>\n",
              "<table border=\"1\" class=\"dataframe\">\n",
              "  <thead>\n",
              "    <tr style=\"text-align: right;\">\n",
              "      <th></th>\n",
              "      <th>country</th>\n",
              "      <th>incomeperperson</th>\n",
              "      <th>alcconsumption</th>\n",
              "      <th>armedforcesrate</th>\n",
              "      <th>breastcancerper100th</th>\n",
              "      <th>co2emissions</th>\n",
              "      <th>femaleemployrate</th>\n",
              "      <th>hivrate</th>\n",
              "      <th>internetuserate</th>\n",
              "      <th>lifeexpectancy</th>\n",
              "      <th>oilperperson</th>\n",
              "      <th>polityscore</th>\n",
              "      <th>relectricperperson</th>\n",
              "      <th>suicideper100th</th>\n",
              "      <th>employrate</th>\n",
              "      <th>urbanrate</th>\n",
              "    </tr>\n",
              "  </thead>\n",
              "  <tbody>\n",
              "    <tr>\n",
              "      <th>0</th>\n",
              "      <td>Afghanistan</td>\n",
              "      <td></td>\n",
              "      <td>.03</td>\n",
              "      <td>.5696534</td>\n",
              "      <td>26.8</td>\n",
              "      <td>75944000</td>\n",
              "      <td>25.6000003814697</td>\n",
              "      <td></td>\n",
              "      <td>3.65412162280064</td>\n",
              "      <td>48.673</td>\n",
              "      <td></td>\n",
              "      <td>0</td>\n",
              "      <td></td>\n",
              "      <td>6.68438529968262</td>\n",
              "      <td>55.7000007629394</td>\n",
              "      <td>24.04</td>\n",
              "    </tr>\n",
              "    <tr>\n",
              "      <th>1</th>\n",
              "      <td>Albania</td>\n",
              "      <td>1914.99655094922</td>\n",
              "      <td>7.29</td>\n",
              "      <td>1.0247361</td>\n",
              "      <td>57.4</td>\n",
              "      <td>223747333.333333</td>\n",
              "      <td>42.0999984741211</td>\n",
              "      <td></td>\n",
              "      <td>44.9899469578783</td>\n",
              "      <td>76.918</td>\n",
              "      <td></td>\n",
              "      <td>9</td>\n",
              "      <td>636.341383366604</td>\n",
              "      <td>7.69932985305786</td>\n",
              "      <td>51.4000015258789</td>\n",
              "      <td>46.72</td>\n",
              "    </tr>\n",
              "    <tr>\n",
              "      <th>2</th>\n",
              "      <td>Algeria</td>\n",
              "      <td>2231.99333515006</td>\n",
              "      <td>.69</td>\n",
              "      <td>2.306817</td>\n",
              "      <td>23.5</td>\n",
              "      <td>2932108666.66667</td>\n",
              "      <td>31.7000007629394</td>\n",
              "      <td>.1</td>\n",
              "      <td>12.5000733055148</td>\n",
              "      <td>73.131</td>\n",
              "      <td>.42009452521537</td>\n",
              "      <td>2</td>\n",
              "      <td>590.509814347428</td>\n",
              "      <td>4.8487696647644</td>\n",
              "      <td>50.5</td>\n",
              "      <td>65.22</td>\n",
              "    </tr>\n",
              "    <tr>\n",
              "      <th>3</th>\n",
              "      <td>Andorra</td>\n",
              "      <td>21943.3398976022</td>\n",
              "      <td>10.17</td>\n",
              "      <td></td>\n",
              "      <td></td>\n",
              "      <td></td>\n",
              "      <td></td>\n",
              "      <td></td>\n",
              "      <td>81</td>\n",
              "      <td></td>\n",
              "      <td></td>\n",
              "      <td></td>\n",
              "      <td></td>\n",
              "      <td>5.36217880249023</td>\n",
              "      <td></td>\n",
              "      <td>88.92</td>\n",
              "    </tr>\n",
              "    <tr>\n",
              "      <th>4</th>\n",
              "      <td>Angola</td>\n",
              "      <td>1381.00426770244</td>\n",
              "      <td>5.57</td>\n",
              "      <td>1.4613288</td>\n",
              "      <td>23.1</td>\n",
              "      <td>248358000</td>\n",
              "      <td>69.4000015258789</td>\n",
              "      <td>2</td>\n",
              "      <td>9.99995388324075</td>\n",
              "      <td>51.093</td>\n",
              "      <td></td>\n",
              "      <td>-2</td>\n",
              "      <td>172.999227388199</td>\n",
              "      <td>14.5546770095825</td>\n",
              "      <td>75.6999969482422</td>\n",
              "      <td>56.7</td>\n",
              "    </tr>\n",
              "  </tbody>\n",
              "</table>\n",
              "</div>"
            ],
            "text/plain": [
              "       country   incomeperperson  ...        employrate urbanrate\n",
              "0  Afghanistan                    ...  55.7000007629394     24.04\n",
              "1      Albania  1914.99655094922  ...  51.4000015258789     46.72\n",
              "2      Algeria  2231.99333515006  ...              50.5     65.22\n",
              "3      Andorra  21943.3398976022  ...                       88.92\n",
              "4       Angola  1381.00426770244  ...  75.6999969482422      56.7\n",
              "\n",
              "[5 rows x 16 columns]"
            ]
          },
          "metadata": {
            "tags": []
          },
          "execution_count": 2
        }
      ]
    },
    {
      "cell_type": "code",
      "metadata": {
        "colab": {
          "base_uri": "https://localhost:8080/",
          "height": 204
        },
        "id": "2KdkUjIVBLrD",
        "outputId": "96437c32-631a-464a-82a0-f547fa87f4e6"
      },
      "source": [
        "# df_continent as dataframe for teh continent data set\r\n",
        "url2='https://raw.githubusercontent.com/dbouquin/IS_608/master/NanosatDB_munging/Countries-Continents.csv'\r\n",
        "df_continent = pd.read_csv(url2)\r\n",
        "df_continent = df_continent.rename(columns={'Country': 'country'})\r\n",
        "df_continent.head()"
      ],
      "execution_count": 3,
      "outputs": [
        {
          "output_type": "execute_result",
          "data": {
            "text/html": [
              "<div>\n",
              "<style scoped>\n",
              "    .dataframe tbody tr th:only-of-type {\n",
              "        vertical-align: middle;\n",
              "    }\n",
              "\n",
              "    .dataframe tbody tr th {\n",
              "        vertical-align: top;\n",
              "    }\n",
              "\n",
              "    .dataframe thead th {\n",
              "        text-align: right;\n",
              "    }\n",
              "</style>\n",
              "<table border=\"1\" class=\"dataframe\">\n",
              "  <thead>\n",
              "    <tr style=\"text-align: right;\">\n",
              "      <th></th>\n",
              "      <th>Continent</th>\n",
              "      <th>country</th>\n",
              "    </tr>\n",
              "  </thead>\n",
              "  <tbody>\n",
              "    <tr>\n",
              "      <th>0</th>\n",
              "      <td>Africa</td>\n",
              "      <td>Algeria</td>\n",
              "    </tr>\n",
              "    <tr>\n",
              "      <th>1</th>\n",
              "      <td>Africa</td>\n",
              "      <td>Angola</td>\n",
              "    </tr>\n",
              "    <tr>\n",
              "      <th>2</th>\n",
              "      <td>Africa</td>\n",
              "      <td>Benin</td>\n",
              "    </tr>\n",
              "    <tr>\n",
              "      <th>3</th>\n",
              "      <td>Africa</td>\n",
              "      <td>Botswana</td>\n",
              "    </tr>\n",
              "    <tr>\n",
              "      <th>4</th>\n",
              "      <td>Africa</td>\n",
              "      <td>Burkina</td>\n",
              "    </tr>\n",
              "  </tbody>\n",
              "</table>\n",
              "</div>"
            ],
            "text/plain": [
              "  Continent   country\n",
              "0    Africa   Algeria\n",
              "1    Africa    Angola\n",
              "2    Africa     Benin\n",
              "3    Africa  Botswana\n",
              "4    Africa   Burkina"
            ]
          },
          "metadata": {
            "tags": []
          },
          "execution_count": 3
        }
      ]
    },
    {
      "cell_type": "markdown",
      "metadata": {
        "id": "NRX-_-SWBhWB"
      },
      "source": [
        "### let's merge the two dataframe `df` and `df_continent`"
      ]
    },
    {
      "cell_type": "code",
      "metadata": {
        "colab": {
          "base_uri": "https://localhost:8080/",
          "height": 224
        },
        "id": "RFUOF0RHBqYw",
        "outputId": "8b99553a-69e3-41c2-c284-d9beee376f02"
      },
      "source": [
        "df_outer = pd.merge(df_continent, df, on='country', how='outer')\r\n",
        "\r\n",
        "df_outer.head()"
      ],
      "execution_count": 4,
      "outputs": [
        {
          "output_type": "execute_result",
          "data": {
            "text/html": [
              "<div>\n",
              "<style scoped>\n",
              "    .dataframe tbody tr th:only-of-type {\n",
              "        vertical-align: middle;\n",
              "    }\n",
              "\n",
              "    .dataframe tbody tr th {\n",
              "        vertical-align: top;\n",
              "    }\n",
              "\n",
              "    .dataframe thead th {\n",
              "        text-align: right;\n",
              "    }\n",
              "</style>\n",
              "<table border=\"1\" class=\"dataframe\">\n",
              "  <thead>\n",
              "    <tr style=\"text-align: right;\">\n",
              "      <th></th>\n",
              "      <th>Continent</th>\n",
              "      <th>country</th>\n",
              "      <th>incomeperperson</th>\n",
              "      <th>alcconsumption</th>\n",
              "      <th>armedforcesrate</th>\n",
              "      <th>breastcancerper100th</th>\n",
              "      <th>co2emissions</th>\n",
              "      <th>femaleemployrate</th>\n",
              "      <th>hivrate</th>\n",
              "      <th>internetuserate</th>\n",
              "      <th>lifeexpectancy</th>\n",
              "      <th>oilperperson</th>\n",
              "      <th>polityscore</th>\n",
              "      <th>relectricperperson</th>\n",
              "      <th>suicideper100th</th>\n",
              "      <th>employrate</th>\n",
              "      <th>urbanrate</th>\n",
              "    </tr>\n",
              "  </thead>\n",
              "  <tbody>\n",
              "    <tr>\n",
              "      <th>0</th>\n",
              "      <td>Africa</td>\n",
              "      <td>Algeria</td>\n",
              "      <td>2231.99333515006</td>\n",
              "      <td>.69</td>\n",
              "      <td>2.306817</td>\n",
              "      <td>23.5</td>\n",
              "      <td>2932108666.66667</td>\n",
              "      <td>31.7000007629394</td>\n",
              "      <td>.1</td>\n",
              "      <td>12.5000733055148</td>\n",
              "      <td>73.131</td>\n",
              "      <td>.42009452521537</td>\n",
              "      <td>2</td>\n",
              "      <td>590.509814347428</td>\n",
              "      <td>4.8487696647644</td>\n",
              "      <td>50.5</td>\n",
              "      <td>65.22</td>\n",
              "    </tr>\n",
              "    <tr>\n",
              "      <th>1</th>\n",
              "      <td>Africa</td>\n",
              "      <td>Angola</td>\n",
              "      <td>1381.00426770244</td>\n",
              "      <td>5.57</td>\n",
              "      <td>1.4613288</td>\n",
              "      <td>23.1</td>\n",
              "      <td>248358000</td>\n",
              "      <td>69.4000015258789</td>\n",
              "      <td>2</td>\n",
              "      <td>9.99995388324075</td>\n",
              "      <td>51.093</td>\n",
              "      <td></td>\n",
              "      <td>-2</td>\n",
              "      <td>172.999227388199</td>\n",
              "      <td>14.5546770095825</td>\n",
              "      <td>75.6999969482422</td>\n",
              "      <td>56.7</td>\n",
              "    </tr>\n",
              "    <tr>\n",
              "      <th>2</th>\n",
              "      <td>Africa</td>\n",
              "      <td>Benin</td>\n",
              "      <td>377.039699461343</td>\n",
              "      <td>2.08</td>\n",
              "      <td>.2233986</td>\n",
              "      <td>28.1</td>\n",
              "      <td>37950000</td>\n",
              "      <td>58.2000007629394</td>\n",
              "      <td>1.2</td>\n",
              "      <td>3.12996180338983</td>\n",
              "      <td>56.081</td>\n",
              "      <td></td>\n",
              "      <td>7</td>\n",
              "      <td>38.2229433578852</td>\n",
              "      <td>6.05773973464966</td>\n",
              "      <td>71.5999984741211</td>\n",
              "      <td>41.2</td>\n",
              "    </tr>\n",
              "    <tr>\n",
              "      <th>3</th>\n",
              "      <td>Africa</td>\n",
              "      <td>Botswana</td>\n",
              "      <td>4189.43658749046</td>\n",
              "      <td>6.97</td>\n",
              "      <td>1.1319097</td>\n",
              "      <td>33.4</td>\n",
              "      <td>78943333.3333333</td>\n",
              "      <td>38.7000007629394</td>\n",
              "      <td>24.8</td>\n",
              "      <td>5.9998355754858</td>\n",
              "      <td>53.183</td>\n",
              "      <td></td>\n",
              "      <td>8</td>\n",
              "      <td>454.795705303917</td>\n",
              "      <td>11.2139701843262</td>\n",
              "      <td>46</td>\n",
              "      <td>59.58</td>\n",
              "    </tr>\n",
              "    <tr>\n",
              "      <th>4</th>\n",
              "      <td>Africa</td>\n",
              "      <td>Burkina</td>\n",
              "      <td>NaN</td>\n",
              "      <td>NaN</td>\n",
              "      <td>NaN</td>\n",
              "      <td>NaN</td>\n",
              "      <td>NaN</td>\n",
              "      <td>NaN</td>\n",
              "      <td>NaN</td>\n",
              "      <td>NaN</td>\n",
              "      <td>NaN</td>\n",
              "      <td>NaN</td>\n",
              "      <td>NaN</td>\n",
              "      <td>NaN</td>\n",
              "      <td>NaN</td>\n",
              "      <td>NaN</td>\n",
              "      <td>NaN</td>\n",
              "    </tr>\n",
              "  </tbody>\n",
              "</table>\n",
              "</div>"
            ],
            "text/plain": [
              "  Continent   country  ...        employrate urbanrate\n",
              "0    Africa   Algeria  ...              50.5     65.22\n",
              "1    Africa    Angola  ...  75.6999969482422      56.7\n",
              "2    Africa     Benin  ...  71.5999984741211      41.2\n",
              "3    Africa  Botswana  ...                46     59.58\n",
              "4    Africa   Burkina  ...               NaN       NaN\n",
              "\n",
              "[5 rows x 17 columns]"
            ]
          },
          "metadata": {
            "tags": []
          },
          "execution_count": 4
        }
      ]
    },
    {
      "cell_type": "markdown",
      "metadata": {
        "id": "catZq48hCJv-"
      },
      "source": [
        "## New DataFrame for Analysis\r\n",
        "We create a dataframe `sub` out from the merge dataframe `df_outer` to create a dataframe that only contains our needed data"
      ]
    },
    {
      "cell_type": "code",
      "metadata": {
        "colab": {
          "base_uri": "https://localhost:8080/",
          "height": 204
        },
        "id": "q7oSuatkCYVc",
        "outputId": "4a1ae9fb-1e30-4c8f-a89d-0059110e5bda"
      },
      "source": [
        "sub = df_outer[['Continent','incomeperperson','internetuserate']].dropna()\r\n",
        "sub.head()"
      ],
      "execution_count": 5,
      "outputs": [
        {
          "output_type": "execute_result",
          "data": {
            "text/html": [
              "<div>\n",
              "<style scoped>\n",
              "    .dataframe tbody tr th:only-of-type {\n",
              "        vertical-align: middle;\n",
              "    }\n",
              "\n",
              "    .dataframe tbody tr th {\n",
              "        vertical-align: top;\n",
              "    }\n",
              "\n",
              "    .dataframe thead th {\n",
              "        text-align: right;\n",
              "    }\n",
              "</style>\n",
              "<table border=\"1\" class=\"dataframe\">\n",
              "  <thead>\n",
              "    <tr style=\"text-align: right;\">\n",
              "      <th></th>\n",
              "      <th>Continent</th>\n",
              "      <th>incomeperperson</th>\n",
              "      <th>internetuserate</th>\n",
              "    </tr>\n",
              "  </thead>\n",
              "  <tbody>\n",
              "    <tr>\n",
              "      <th>0</th>\n",
              "      <td>Africa</td>\n",
              "      <td>2231.99333515006</td>\n",
              "      <td>12.5000733055148</td>\n",
              "    </tr>\n",
              "    <tr>\n",
              "      <th>1</th>\n",
              "      <td>Africa</td>\n",
              "      <td>1381.00426770244</td>\n",
              "      <td>9.99995388324075</td>\n",
              "    </tr>\n",
              "    <tr>\n",
              "      <th>2</th>\n",
              "      <td>Africa</td>\n",
              "      <td>377.039699461343</td>\n",
              "      <td>3.12996180338983</td>\n",
              "    </tr>\n",
              "    <tr>\n",
              "      <th>3</th>\n",
              "      <td>Africa</td>\n",
              "      <td>4189.43658749046</td>\n",
              "      <td>5.9998355754858</td>\n",
              "    </tr>\n",
              "    <tr>\n",
              "      <th>5</th>\n",
              "      <td>Africa</td>\n",
              "      <td>115.305995904875</td>\n",
              "      <td>2.10021270579814</td>\n",
              "    </tr>\n",
              "  </tbody>\n",
              "</table>\n",
              "</div>"
            ],
            "text/plain": [
              "  Continent   incomeperperson   internetuserate\n",
              "0    Africa  2231.99333515006  12.5000733055148\n",
              "1    Africa  1381.00426770244  9.99995388324075\n",
              "2    Africa  377.039699461343  3.12996180338983\n",
              "3    Africa  4189.43658749046   5.9998355754858\n",
              "5    Africa  115.305995904875  2.10021270579814"
            ]
          },
          "metadata": {
            "tags": []
          },
          "execution_count": 5
        }
      ]
    },
    {
      "cell_type": "markdown",
      "metadata": {
        "id": "qZHvUd9XDtGr"
      },
      "source": [
        "Set the variables to numeric"
      ]
    },
    {
      "cell_type": "code",
      "metadata": {
        "id": "GDXzAFwXDt94"
      },
      "source": [
        "sub['internetuserate'] = sub['internetuserate'].apply(pd.to_numeric, errors='coerce')\r\n",
        "sub['incomeperperson'] = sub['incomeperperson'].apply(pd.to_numeric, errors='coerce')"
      ],
      "execution_count": 8,
      "outputs": []
    },
    {
      "cell_type": "markdown",
      "metadata": {
        "id": "x4LtvItjCjvF"
      },
      "source": [
        "We only need Asian countries so we create another datframe for asian countire we names it `sub_asia`"
      ]
    },
    {
      "cell_type": "code",
      "metadata": {
        "colab": {
          "base_uri": "https://localhost:8080/",
          "height": 204
        },
        "id": "xFBjClO4Cm6s",
        "outputId": "c901966f-5fb2-4111-f94c-7ae2495710e9"
      },
      "source": [
        "# creating New DataFrame For Each Continents\r\n",
        "df_clean=sub.dropna()\r\n",
        "sub_asia=df_clean[(df_clean['Continent']== 'Asia')]\r\n",
        "sub_asia.head()"
      ],
      "execution_count": 10,
      "outputs": [
        {
          "output_type": "execute_result",
          "data": {
            "text/html": [
              "<div>\n",
              "<style scoped>\n",
              "    .dataframe tbody tr th:only-of-type {\n",
              "        vertical-align: middle;\n",
              "    }\n",
              "\n",
              "    .dataframe tbody tr th {\n",
              "        vertical-align: top;\n",
              "    }\n",
              "\n",
              "    .dataframe thead th {\n",
              "        text-align: right;\n",
              "    }\n",
              "</style>\n",
              "<table border=\"1\" class=\"dataframe\">\n",
              "  <thead>\n",
              "    <tr style=\"text-align: right;\">\n",
              "      <th></th>\n",
              "      <th>Continent</th>\n",
              "      <th>incomeperperson</th>\n",
              "      <th>internetuserate</th>\n",
              "    </tr>\n",
              "  </thead>\n",
              "  <tbody>\n",
              "    <tr>\n",
              "      <th>55</th>\n",
              "      <td>Asia</td>\n",
              "      <td>12505.212545</td>\n",
              "      <td>54.992809</td>\n",
              "    </tr>\n",
              "    <tr>\n",
              "      <th>56</th>\n",
              "      <td>Asia</td>\n",
              "      <td>558.062877</td>\n",
              "      <td>3.700003</td>\n",
              "    </tr>\n",
              "    <tr>\n",
              "      <th>57</th>\n",
              "      <td>Asia</td>\n",
              "      <td>1324.194906</td>\n",
              "      <td>13.598876</td>\n",
              "    </tr>\n",
              "    <tr>\n",
              "      <th>58</th>\n",
              "      <td>Asia</td>\n",
              "      <td>17092.460004</td>\n",
              "      <td>49.989975</td>\n",
              "    </tr>\n",
              "    <tr>\n",
              "      <th>60</th>\n",
              "      <td>Asia</td>\n",
              "      <td>557.947513</td>\n",
              "      <td>1.259934</td>\n",
              "    </tr>\n",
              "  </tbody>\n",
              "</table>\n",
              "</div>"
            ],
            "text/plain": [
              "   Continent  incomeperperson  internetuserate\n",
              "55      Asia     12505.212545        54.992809\n",
              "56      Asia       558.062877         3.700003\n",
              "57      Asia      1324.194906        13.598876\n",
              "58      Asia     17092.460004        49.989975\n",
              "60      Asia       557.947513         1.259934"
            ]
          },
          "metadata": {
            "tags": []
          },
          "execution_count": 10
        }
      ]
    },
    {
      "cell_type": "markdown",
      "metadata": {
        "id": "pJna89paEooO"
      },
      "source": [
        "### Center the explanatory variable; \r\n",
        "\r\n",
        "ie, set the mean of the data to equal zero"
      ]
    },
    {
      "cell_type": "code",
      "metadata": {
        "colab": {
          "base_uri": "https://localhost:8080/"
        },
        "id": "y4EX4lyxEz_O",
        "outputId": "cfd1a02c-9e91-4974-cf75-550bd3b746db"
      },
      "source": [
        "data_centered = sub_asia.copy()\r\n",
        "data_centered['incomeperperson'] = data_centered['incomeperperson'].subtract(data_centered['incomeperperson'].mean())\r\n",
        "print ('Mean of', data_centered[['incomeperperson']].mean())"
      ],
      "execution_count": 11,
      "outputs": [
        {
          "output_type": "stream",
          "text": [
            "Mean of incomeperperson    1.162132e-12\n",
            "dtype: float64\n"
          ],
          "name": "stdout"
        }
      ]
    },
    {
      "cell_type": "markdown",
      "metadata": {
        "id": "oqvJl-2eFBUt"
      },
      "source": [
        "The mean is not exactly 0 due to errors in float representation   \r\n",
        "\r\n",
        "\r\n",
        "\r\n",
        "\r\n",
        "\r\n",
        "---\r\n",
        "<br>\r\n",
        "<br>\r\n",
        "\r\n",
        "### Run scatterplot of internetuserate with centered incomeperperson"
      ]
    },
    {
      "cell_type": "code",
      "metadata": {
        "colab": {
          "base_uri": "https://localhost:8080/",
          "height": 295
        },
        "id": "MvsujXscFP0N",
        "outputId": "d1bcb192-ff3d-4ef4-faee-26121b22f03c"
      },
      "source": [
        "scat1 = sns.regplot(x=\"incomeperperson\", y=\"internetuserate\", scatter=True, data=data_centered)\r\n",
        "plt.xlabel('Income Per Person')\r\n",
        "plt.ylabel('Internet Use Rate')\r\n",
        "plt.title ('Scatterplot for the Association Between Income Per Person and Internet Use Rate in Asia')\r\n",
        "plt.show()"
      ],
      "execution_count": 13,
      "outputs": [
        {
          "output_type": "display_data",
          "data": {
            "image/png": "[encoded data removed]",
            "text/plain": [
              "<Figure size 432x288 with 1 Axes>"
            ]
          },
          "metadata": {
            "tags": [],
            "needs_background": "light"
          }
        }
      ]
    },
    {
      "cell_type": "markdown",
      "metadata": {
        "id": "mHtuoJpLFy4c"
      },
      "source": [
        "### OLS regression model for the association between income per person and internet use rate"
      ]
    },
    {
      "cell_type": "code",
      "metadata": {
        "colab": {
          "base_uri": "https://localhost:8080/",
          "height": 478
        },
        "id": "Va_xyCeyF3hT",
        "outputId": "92de371b-a9a4-4a62-ea55-2fd19c4263b6"
      },
      "source": [
        "reg1 = smf.ols('internetuserate ~ incomeperperson', data=data_centered).fit()\r\n",
        "reg1.summary()"
      ],
      "execution_count": 14,
      "outputs": [
        {
          "output_type": "execute_result",
          "data": {
            "text/html": [
              "<table class=\"simpletable\">\n",
              "<caption>OLS Regression Results</caption>\n",
              "<tr>\n",
              "  <th>Dep. Variable:</th>     <td>internetuserate</td> <th>  R-squared:         </th> <td>   0.755</td>\n",
              "</tr>\n",
              "<tr>\n",
              "  <th>Model:</th>                   <td>OLS</td>       <th>  Adj. R-squared:    </th> <td>   0.748</td>\n",
              "</tr>\n",
              "<tr>\n",
              "  <th>Method:</th>             <td>Least Squares</td>  <th>  F-statistic:       </th> <td>   104.7</td>\n",
              "</tr>\n",
              "<tr>\n",
              "  <th>Date:</th>             <td>Wed, 30 Dec 2020</td> <th>  Prob (F-statistic):</th> <td>6.43e-12</td>\n",
              "</tr>\n",
              "<tr>\n",
              "  <th>Time:</th>                 <td>19:19:57</td>     <th>  Log-Likelihood:    </th> <td> -139.81</td>\n",
              "</tr>\n",
              "<tr>\n",
              "  <th>No. Observations:</th>      <td>    36</td>      <th>  AIC:               </th> <td>   283.6</td>\n",
              "</tr>\n",
              "<tr>\n",
              "  <th>Df Residuals:</th>          <td>    34</td>      <th>  BIC:               </th> <td>   286.8</td>\n",
              "</tr>\n",
              "<tr>\n",
              "  <th>Df Model:</th>              <td>     1</td>      <th>                     </th>     <td> </td>   \n",
              "</tr>\n",
              "<tr>\n",
              "  <th>Covariance Type:</th>      <td>nonrobust</td>    <th>                     </th>     <td> </td>   \n",
              "</tr>\n",
              "</table>\n",
              "<table class=\"simpletable\">\n",
              "<tr>\n",
              "         <td></td>            <th>coef</th>     <th>std err</th>      <th>t</th>      <th>P>|t|</th>  <th>[0.025</th>    <th>0.975]</th>  \n",
              "</tr>\n",
              "<tr>\n",
              "  <th>Intercept</th>       <td>   30.5362</td> <td>    2.017</td> <td>   15.140</td> <td> 0.000</td> <td>   26.437</td> <td>   34.635</td>\n",
              "</tr>\n",
              "<tr>\n",
              "  <th>incomeperperson</th> <td>    0.0020</td> <td>    0.000</td> <td>   10.234</td> <td> 0.000</td> <td>    0.002</td> <td>    0.002</td>\n",
              "</tr>\n",
              "</table>\n",
              "<table class=\"simpletable\">\n",
              "<tr>\n",
              "  <th>Omnibus:</th>       <td> 1.752</td> <th>  Durbin-Watson:     </th> <td>   2.375</td>\n",
              "</tr>\n",
              "<tr>\n",
              "  <th>Prob(Omnibus):</th> <td> 0.416</td> <th>  Jarque-Bera (JB):  </th> <td>   1.619</td>\n",
              "</tr>\n",
              "<tr>\n",
              "  <th>Skew:</th>          <td> 0.481</td> <th>  Prob(JB):          </th> <td>   0.445</td>\n",
              "</tr>\n",
              "<tr>\n",
              "  <th>Kurtosis:</th>      <td> 2.606</td> <th>  Cond. No.          </th> <td>1.03e+04</td>\n",
              "</tr>\n",
              "</table><br/><br/>Warnings:<br/>[1] Standard Errors assume that the covariance matrix of the errors is correctly specified.<br/>[2] The condition number is large, 1.03e+04. This might indicate that there are<br/>strong multicollinearity or other numerical problems."
            ],
            "text/plain": [
              "<class 'statsmodels.iolib.summary.Summary'>\n",
              "\"\"\"\n",
              "                            OLS Regression Results                            \n",
              "==============================================================================\n",
              "Dep. Variable:        internetuserate   R-squared:                       0.755\n",
              "Model:                            OLS   Adj. R-squared:                  0.748\n",
              "Method:                 Least Squares   F-statistic:                     104.7\n",
              "Date:                Wed, 30 Dec 2020   Prob (F-statistic):           6.43e-12\n",
              "Time:                        19:19:57   Log-Likelihood:                -139.81\n",
              "No. Observations:                  36   AIC:                             283.6\n",
              "Df Residuals:                      34   BIC:                             286.8\n",
              "Df Model:                           1                                         \n",
              "Covariance Type:            nonrobust                                         \n",
              "===================================================================================\n",
              "                      coef    std err          t      P>|t|      [0.025      0.975]\n",
              "-----------------------------------------------------------------------------------\n",
              "Intercept          30.5362      2.017     15.140      0.000      26.437      34.635\n",
              "incomeperperson     0.0020      0.000     10.234      0.000       0.002       0.002\n",
              "==============================================================================\n",
              "Omnibus:                        1.752   Durbin-Watson:                   2.375\n",
              "Prob(Omnibus):                  0.416   Jarque-Bera (JB):                1.619\n",
              "Skew:                           0.481   Prob(JB):                        0.445\n",
              "Kurtosis:                       2.606   Cond. No.                     1.03e+04\n",
              "==============================================================================\n",
              "\n",
              "Warnings:\n",
              "[1] Standard Errors assume that the covariance matrix of the errors is correctly specified.\n",
              "[2] The condition number is large, 1.03e+04. This might indicate that there are\n",
              "strong multicollinearity or other numerical problems.\n",
              "\"\"\""
            ]
          },
          "metadata": {
            "tags": []
          },
          "execution_count": 14
        }
      ]
    },
    {
      "cell_type": "markdown",
      "metadata": {
        "id": "pPDgSJP_GpO5"
      },
      "source": [
        "Note that the majority of data points are clustered near, but below, 0 with a long tail reaching to the right. This is in agreement with the mean centered at 0 and also indicative that the vast majority of countries have low incomes with a few having very, very high incomes. \r\n",
        "\r\n",
        "The results indicate that income per person is significantly and positively associated with internet use rate in a country according to the equation **`[internet use rate] = .002 * [income per person] + 30.362`**. I suspect a linear regression line is not the best fit possible, the curve does appear to be logarithmic in shape; but for the sake of this demonstration a linear line is fine."
      ]
    }
  ]
}