{
  "nbformat": 4,
  "nbformat_minor": 0,
  "metadata": {
    "colab": {
      "name": "Programming Foundation - Algorithm.ipynb",
      "provenance": [],
      "authorship_tag": "ABX9TyOL1NXSaltOrOdViwJ6UHd4"
    },
    "kernelspec": {
      "name": "python3",
      "display_name": "Python 3"
    }
  },
  "cells": [
    {
      "cell_type": "markdown",
      "metadata": {
        "id": "K16EmKOp5mX4",
        "colab_type": "text"
      },
      "source": [
        "# Common Algorithms\n",
        "## Search Algorithms\n",
        "- find specific data in structure (i.e. a substring within a string)\n",
        "\n",
        "## Sorting Algorithm\n",
        "- Take a dataset and apply a sort order on it\n",
        "\n",
        "## Computational Algorithm\n",
        "- given one set of data, calcualte another (is a given number prime?)\n",
        "\n",
        "## Collection Algorithm\n",
        "- work with collections of data (count specific items, navigate among data elements, filter out unwanted data etc.)\n",
        "\n"
      ]
    },
    {
      "cell_type": "code",
      "metadata": {
        "id": "19NGGa2R5SbG",
        "colab_type": "code",
        "colab": {
          "base_uri": "https://localhost:8080/",
          "height": 68
        },
        "outputId": "1c9ed8ed-1de1-4f87-de53-49ef4c8ec258"
      },
      "source": [
        "# Find the greatest common denominator of two numbers\n",
        "#using Euclids Algorithm\n",
        "\n",
        "def gcd(a, b):\n",
        "  while(b != 0):\n",
        "    t = a\n",
        "    a = b\n",
        "    b = t % b\n",
        "  return a\n",
        "\n",
        "#try out the function with few numbers\n",
        "print(gcd(60,96)) #should be 12\n",
        "print(gcd(20, 8)) # should be 4\n",
        "print(gcd(12, 30))"
      ],
      "execution_count": 1,
      "outputs": [
        {
          "output_type": "stream",
          "text": [
            "12\n",
            "4\n",
            "6\n"
          ],
          "name": "stdout"
        }
      ]
    },
    {
      "cell_type": "code",
      "metadata": {
        "id": "OfiTGnfF9A_4",
        "colab_type": "code",
        "colab": {}
      },
      "source": [
        ""
      ],
      "execution_count": null,
      "outputs": []
    }
  ]
}