{
  "nbformat": 4,
  "nbformat_minor": 0,
  "metadata": {
    "colab": {
      "name": "How to Python.ipynb",
      "provenance": [],
      "authorship_tag": "ABX9TyNLYjGybRayrvbzp/qzz6cu"
    },
    "kernelspec": {
      "name": "python3",
      "display_name": "Python 3"
    }
  },
  "cells": [
    {
      "cell_type": "markdown",
      "metadata": {
        "id": "Bj5_5vOsh64p",
        "colab_type": "text"
      },
      "source": [
        "# How to Master Python\n",
        "> A road map to python.\n",
        "\n",
        "- toc: true \n",
        "- badges: true\n",
        "- comments: true\n",
        "- categories: [roadmap, Python]\n",
        "- image: images/chart-preview.png"
      ]
    },
    {
      "cell_type": "markdown",
      "metadata": {
        "id": "bTC-CfX7zWL_",
        "colab_type": "text"
      },
      "source": [
        "# How to Master Python\n",
        "\n",
        "That is the very big question.\n",
        "\n",
        "Let us start with hello world\n",
        "\n",
        "every programming language starts with hello world."
      ]
    },
    {
      "cell_type": "code",
      "metadata": {
        "id": "HCKAQEhrzPn-",
        "colab_type": "code",
        "colab": {
          "base_uri": "https://localhost:8080/",
          "height": 34
        },
        "outputId": "9bdbfde0-4976-4e47-88e4-b8b7496396b8"
      },
      "source": [
        "print(\"Hello World\")"
      ],
      "execution_count": null,
      "outputs": [
        {
          "output_type": "stream",
          "text": [
            "Hello World\n"
          ],
          "name": "stdout"
        }
      ]
    },
    {
      "cell_type": "markdown",
      "metadata": {
        "id": "S2-AAq9czaxc",
        "colab_type": "text"
      },
      "source": [
        "## How to become a **Ninja** in Python?\n",
        "\n",
        "*It’s simple. Pick a tutorial and complete it. Then, pick another. Rest and Repeat.*\n",
        "\n",
        "**A single book or video course will not cut it**. You need continual exposure to code, along with progressive overload. Patience, persistence, commitment (and a bunch of other cool qualities) are required !  \n",
        "<br>  \n",
        "<br>  \n",
        " \n",
        "I’ve come up with a basic flow of what I’d advise a beginner to do. If you’re human (last time I checked, AI wasn’t interested in learning python, yet) your version of the roadmap will vary. Just use this for reference. **It’s important to know when to move to the next level. Most people do it too late**.\n",
        "![roadmap](https://hackernoon.com/hn-images/1*YHhp2tMqiu4lCSh8aJQFHg.jpeg)"
      ]
    },
    {
      "cell_type": "markdown",
      "metadata": {
        "id": "ZZ3hJKMv1H4M",
        "colab_type": "text"
      },
      "source": [
        "## Foundations\n",
        "\n",
        "1.   [Automate the Boring Stuff with Python](https://automatetheboringstuff.com/)\n",
        "2.   [Think Python](http://greenteapress.com/thinkpython2/html/index.html)\n",
        "3.   [Python Tutorials](https://docs.python.org/3/tutorial/)\n",
        "4.   [Python Koans](https://github.com/gregmalcolm/python_koans)\n",
        "5. [Read the docs](https://python-intro.readthedocs.io/en/latest/numbers.html)\n",
        "6. [The hitchhiker's guide to python](https://docs.python-guide.org/intro/learning/)\n",
        "\n"
      ]
    },
    {
      "cell_type": "markdown",
      "metadata": {
        "id": "mNrLnS1DQGQy",
        "colab_type": "text"
      },
      "source": [
        "You might prefer to pick a course on **edX** instead of **reading a book**. The overall process is more important than the individual tutorials/courses you pick.\n",
        "\n",
        "\n",
        "*   Build a strong foundation by reading books.\n",
        "*   Follow the tutorials that teach you to accomplish a single task with Python, like sending email or writing files. This will introduce you to the useful packages and libraries available to a Python developer.\n",
        "* Inculcate a habit of reading documentation. Build small apps by using the libraries available.\n",
        "* Gain a deeper understanding of the language and it’s tools. Learn what the experts in the field are working on.\n",
        "* Go straight to the source.\n",
        "\n",
        "Here’s a list of useful Python resources if you’ve exhausted the ones in the diagram. Best Python Resources at [Full Stack Python](https://www.fullstackpython.com/best-python-resources.html).\n",
        "\n",
        "While following any tutorial, make sure you code along the way. Merely, reading the code examples isn’t enough.\n",
        "\n"
      ]
    },
    {
      "cell_type": "markdown",
      "metadata": {
        "id": "TDMLMGsDRVSg",
        "colab_type": "text"
      },
      "source": [
        "\n",
        "# Learn General Purpose Problem Solving\n",
        "![alt text](https://hackernoon.com/hn-images/1*s_SfO5VKDIR92KxL_CZMmw.jpeg)\n",
        "\n",
        "*There’s a subtle difference between learning a language (or framework/library) and learning to program. It’s like comparing water colors to painting.*\n",
        "\n",
        "Before you pay for a **‘Full Stack Web Developer’** course, just know that **it will not make you a good programmer**.\n",
        "\n",
        "It will only **teach you a particular procedure** to tackle a simple problem (yes, the web apps built in most of these courses are indeed simple problems). \n",
        "\n",
        "Knowing the procedure is good, but being able to devise your own procedures is brilliant. Pay attention to programming constructs, design patterns and algorithms. These are not specific to Python and remain the same for almost all languages.\n",
        "\n",
        "***Do it long enough and the pattern will emerge.***"
      ]
    },
    {
      "cell_type": "markdown",
      "metadata": {
        "id": "ITUE-E0-R5hr",
        "colab_type": "text"
      },
      "source": [
        "# Finding Answers\n",
        "If you get stuck (you will, several times), try to solve the problem before you start running in the other direction. \n",
        "\n",
        "There is a very high probability that someone, somewhere has faced the same problem before and the internet has documented proof of it. Search for the solution on the web. Also, the Python community (subset of the world’s population that use Python and actively participate in connecting with other Python programmers) is very welcoming. \n",
        "\n",
        "You can always ask people for help. Join the [Python channel on Gitter](https://gitter.im/FreeCodeCamp/python)."
      ]
    },
    {
      "cell_type": "markdown",
      "metadata": {
        "id": "4nYP0mjJdVfx",
        "colab_type": "text"
      },
      "source": [
        "# Wow Python !\n",
        "There’s a lot to learn in Python. It’s used in a whole bunch of fields. Do not skip the basics and jump to specialize in a particular field. \n",
        "\n",
        "*Learning PyTorch should come after packaging, Django after Virtual Environments.* \n",
        "\n",
        "Having in-depth knowledge of Python pays off in the long run. It will result in less time spent debugging your programs while you’re working with your super special library.\n",
        "\n",
        "![cycle](https://hackernoon.com/hn-images/1*I_gcg6_kdPEYxXDZjeEd4w.jpeg)"
      ]
    },
    {
      "cell_type": "markdown",
      "metadata": {
        "id": "3bfGynbbd2ml",
        "colab_type": "text"
      },
      "source": [
        "# How Long Does It Take ?\n",
        "\n",
        "## ***9 lifetimes.***  \n",
        "<br><br>\n",
        "\n",
        "It takes time to learn something well. Way longer than most people tell you. You cannot become an expert programmer in a couple of months. \n",
        "\n",
        "**Good things take time and effort**. \n",
        "\n",
        "I would recommend that you focus primarily on Python for at least a year. There will be distractions and diversions, avoid those. But don’t be scared of branching out to learn new things. Python is not the only thing you need to become a well rounded developer. Learning Git, Markdown, HTML pays off immensely. You might also need to pick up JS or statistics along the way.\n",
        "\n",
        "## *Be a learner forever, but not JUST a learner !*\n"
      ]
    },
    {
      "cell_type": "markdown",
      "metadata": {
        "id": "0kZccnjKemmT",
        "colab_type": "text"
      },
      "source": [
        "![alt text](https://hackernoon.com/hn-images/1*64z9RGbNfctoOJAgnrdWfg.jpeg)\n",
        "# Understand the Learn/Build cycle\n",
        "There are two phases in any creative/scientific endeavor that keep repeating.\n",
        "\n",
        "The **Learn** phase, where you should focus on amassing knowledge. Read books, complete every tutorial and explore what’s already been done.\n",
        "\n",
        "The **Build** phase, where you create something by applying the knowledge gained in the previous phase. Stop doubting your skills, tune out the noise that says you can’t and write your own app. Only when you’re done, go back and **learn **again.\n",
        "\n",
        "Balance the two phases. Have a month or two month long **Learn** phase followed by a month long **Build** phase. Most people are too scared to start the **Build** phase.\n",
        "\n",
        "***Become a student of the game.***\n",
        "\n",
        "Explore everything about your language, learn about the pioneers in your field, ask questions, learn why something is designed the the way it is."
      ]
    },
    {
      "cell_type": "markdown",
      "metadata": {
        "id": "6A041mjWgW0R",
        "colab_type": "text"
      },
      "source": [
        "## *There will be a time when you would be following [Kenneth Reitz]https://github.com/kennethreitz) on GitHub, listening to [Talk Python](https://talkpython.fm/) on your commutes and complying with [pep8](https://www.python.org/dev/peps/pep-0008/) in vernacular writing. And, you’d do it not because you need to learn, but because you want to know.*"
      ]
    }
  ]
}